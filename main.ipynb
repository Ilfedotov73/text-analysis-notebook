{
 "cells": [
  {
   "cell_type": "markdown",
   "id": "ee229d95",
   "metadata": {},
   "source": [
    "## Формирование dataset-a"
   ]
  },
  {
   "cell_type": "code",
   "execution_count": 1,
   "id": "4abae232",
   "metadata": {},
   "outputs": [
    {
     "name": "stdout",
     "output_type": "stream",
     "text": [
      "<class 'pandas.core.frame.DataFrame'>\n",
      "RangeIndex: 66 entries, 0 to 65\n",
      "Data columns (total 3 columns):\n",
      " #   Column   Non-Null Count  Dtype \n",
      "---  ------   --------------  ----- \n",
      " 0   docname  66 non-null     object\n",
      " 1   text     66 non-null     object\n",
      " 2   gender   66 non-null     int64 \n",
      "dtypes: int64(1), object(2)\n",
      "memory usage: 1.7+ KB\n"
     ]
    },
    {
     "data": {
      "application/vnd.microsoft.datawrangler.viewer.v0+json": {
       "columns": [
        {
         "name": "index",
         "rawType": "int64",
         "type": "integer"
        },
        {
         "name": "docname",
         "rawType": "object",
         "type": "string"
        },
        {
         "name": "text",
         "rawType": "object",
         "type": "string"
        },
        {
         "name": "gender",
         "rawType": "int64",
         "type": "integer"
        }
       ],
       "conversionMethod": "pd.DataFrame",
       "ref": "434f2423-d943-4a06-a063-3d7554c33194",
       "rows": [
        [
         "0",
         "FАпарян-1.txt",
         "Проблема: Неверие и недоверие людей к правительству, закону. От этого боязнь органов власти, полиции, неверие в поддержку, хорошее стабильное будущее, как следствие, нежелание рождать детей.\n",
         "1"
        ],
        [
         "1",
         "FКороткова-1.txt",
         "Проблема: Изменение климата и экологические кризисы (Глобальное потепление, загрязнение окружающей сферы и т. д.). Решение: Инновации: Зеленая энергетика, технологии управления углерода.\n",
         "1"
        ],
        [
         "2",
         "MМихайлишин-2.txt",
         "Проблема: Зачастую люди придумывают что-то новое, не обладают средствами и связями, чтобы нести свои идеи в массы.\n",
         "0"
        ],
        [
         "3",
         "MКуклев-2.txt",
         "Проблема: Голод и нехватка продовольствия. Решение: Вертикальные фермы. Модификация культур с высокой урожайностью.\n",
         "0"
        ],
        [
         "4",
         "MФедотов-1.txt",
         "Проблема: Повестка, ведомость общества. Т. е. очень легко создать общественное мнение, направить общество на неверный вектор развития (секты и т. д.). Решение: Децентрализованный интернет.\n",
         "0"
        ]
       ],
       "shape": {
        "columns": 3,
        "rows": 5
       }
      },
      "text/html": [
       "<div>\n",
       "<style scoped>\n",
       "    .dataframe tbody tr th:only-of-type {\n",
       "        vertical-align: middle;\n",
       "    }\n",
       "\n",
       "    .dataframe tbody tr th {\n",
       "        vertical-align: top;\n",
       "    }\n",
       "\n",
       "    .dataframe thead th {\n",
       "        text-align: right;\n",
       "    }\n",
       "</style>\n",
       "<table border=\"1\" class=\"dataframe\">\n",
       "  <thead>\n",
       "    <tr style=\"text-align: right;\">\n",
       "      <th></th>\n",
       "      <th>docname</th>\n",
       "      <th>text</th>\n",
       "      <th>gender</th>\n",
       "    </tr>\n",
       "  </thead>\n",
       "  <tbody>\n",
       "    <tr>\n",
       "      <th>0</th>\n",
       "      <td>FАпарян-1.txt</td>\n",
       "      <td>Проблема: Неверие и недоверие людей к правител...</td>\n",
       "      <td>1</td>\n",
       "    </tr>\n",
       "    <tr>\n",
       "      <th>1</th>\n",
       "      <td>FКороткова-1.txt</td>\n",
       "      <td>Проблема: Изменение климата и экологические кр...</td>\n",
       "      <td>1</td>\n",
       "    </tr>\n",
       "    <tr>\n",
       "      <th>2</th>\n",
       "      <td>MМихайлишин-2.txt</td>\n",
       "      <td>Проблема: Зачастую люди придумывают что-то нов...</td>\n",
       "      <td>0</td>\n",
       "    </tr>\n",
       "    <tr>\n",
       "      <th>3</th>\n",
       "      <td>MКуклев-2.txt</td>\n",
       "      <td>Проблема: Голод и нехватка продовольствия. Реш...</td>\n",
       "      <td>0</td>\n",
       "    </tr>\n",
       "    <tr>\n",
       "      <th>4</th>\n",
       "      <td>MФедотов-1.txt</td>\n",
       "      <td>Проблема: Повестка, ведомость общества. Т. е. ...</td>\n",
       "      <td>0</td>\n",
       "    </tr>\n",
       "  </tbody>\n",
       "</table>\n",
       "</div>"
      ],
      "text/plain": [
       "             docname                                               text  \\\n",
       "0      FАпарян-1.txt  Проблема: Неверие и недоверие людей к правител...   \n",
       "1   FКороткова-1.txt  Проблема: Изменение климата и экологические кр...   \n",
       "2  MМихайлишин-2.txt  Проблема: Зачастую люди придумывают что-то нов...   \n",
       "3      MКуклев-2.txt  Проблема: Голод и нехватка продовольствия. Реш...   \n",
       "4     MФедотов-1.txt  Проблема: Повестка, ведомость общества. Т. е. ...   \n",
       "\n",
       "   gender  \n",
       "0       1  \n",
       "1       1  \n",
       "2       0  \n",
       "3       0  \n",
       "4       0  "
      ]
     },
     "metadata": {},
     "output_type": "display_data"
    },
    {
     "data": {
      "application/vnd.microsoft.datawrangler.viewer.v0+json": {
       "columns": [
        {
         "name": "index",
         "rawType": "int64",
         "type": "integer"
        },
        {
         "name": "docname",
         "rawType": "object",
         "type": "string"
        },
        {
         "name": "text",
         "rawType": "object",
         "type": "string"
        },
        {
         "name": "gender",
         "rawType": "int64",
         "type": "integer"
        }
       ],
       "conversionMethod": "pd.DataFrame",
       "ref": "f2e95aad-6286-499d-b741-ed57cbf0a54f",
       "rows": [
        [
         "61",
         "FКороткова-3.txt",
         "Проблема: Урбанизация и перенаселение городов (Перенаселённость, пробки, загрязнение воздуха, нехватка жилья). Решение: Инновации: “Умные города” с автоматическим транспортом, модульные небоскребы, подземные и воздушные  переходы.\n",
         "1"
        ],
        [
         "62",
         "MБекленищев-2.txt",
         "Проблема: Миграция и беженцы. Решение: Разработка программы интеграции мигрантов в общество (например, языковые курсы и профессиональная подготовка), использование технологий для улучшения управления миграционными потоками и создания безопасных каналов для поиска убежищ.\n",
         "0"
        ],
        [
         "63",
         "FМаврина-2.txt",
         "Проблема: Нехватка ресурсов: увеличения потребления ресурсов (вода, энергия продовольствие) в сочетании с ограниченными запасами и неравномерное распределение.\n",
         "1"
        ],
        [
         "64",
         "FМусаткина-3.txt",
         "Проблема: Увеличение количества мигрантов. Решение: Использование виртуальной реальности или дополнения реальности, чтобы познакомить и интегрировать их в  культуру и обычаи.\n",
         "1"
        ],
        [
         "65",
         "FАлимова-3.txt",
         "Проблема: Потеря связи с природой – большая часть суши изменена человеком, люди не замечают изменения видов/экосистем, думают о своем комфорте. Ухудшается иммунитет.\n",
         "1"
        ]
       ],
       "shape": {
        "columns": 3,
        "rows": 5
       }
      },
      "text/html": [
       "<div>\n",
       "<style scoped>\n",
       "    .dataframe tbody tr th:only-of-type {\n",
       "        vertical-align: middle;\n",
       "    }\n",
       "\n",
       "    .dataframe tbody tr th {\n",
       "        vertical-align: top;\n",
       "    }\n",
       "\n",
       "    .dataframe thead th {\n",
       "        text-align: right;\n",
       "    }\n",
       "</style>\n",
       "<table border=\"1\" class=\"dataframe\">\n",
       "  <thead>\n",
       "    <tr style=\"text-align: right;\">\n",
       "      <th></th>\n",
       "      <th>docname</th>\n",
       "      <th>text</th>\n",
       "      <th>gender</th>\n",
       "    </tr>\n",
       "  </thead>\n",
       "  <tbody>\n",
       "    <tr>\n",
       "      <th>61</th>\n",
       "      <td>FКороткова-3.txt</td>\n",
       "      <td>Проблема: Урбанизация и перенаселение городов ...</td>\n",
       "      <td>1</td>\n",
       "    </tr>\n",
       "    <tr>\n",
       "      <th>62</th>\n",
       "      <td>MБекленищев-2.txt</td>\n",
       "      <td>Проблема: Миграция и беженцы. Решение: Разрабо...</td>\n",
       "      <td>0</td>\n",
       "    </tr>\n",
       "    <tr>\n",
       "      <th>63</th>\n",
       "      <td>FМаврина-2.txt</td>\n",
       "      <td>Проблема: Нехватка ресурсов: увеличения потреб...</td>\n",
       "      <td>1</td>\n",
       "    </tr>\n",
       "    <tr>\n",
       "      <th>64</th>\n",
       "      <td>FМусаткина-3.txt</td>\n",
       "      <td>Проблема: Увеличение количества мигрантов. Реш...</td>\n",
       "      <td>1</td>\n",
       "    </tr>\n",
       "    <tr>\n",
       "      <th>65</th>\n",
       "      <td>FАлимова-3.txt</td>\n",
       "      <td>Проблема: Потеря связи с природой – большая ча...</td>\n",
       "      <td>1</td>\n",
       "    </tr>\n",
       "  </tbody>\n",
       "</table>\n",
       "</div>"
      ],
      "text/plain": [
       "              docname                                               text  \\\n",
       "61   FКороткова-3.txt  Проблема: Урбанизация и перенаселение городов ...   \n",
       "62  MБекленищев-2.txt  Проблема: Миграция и беженцы. Решение: Разрабо...   \n",
       "63     FМаврина-2.txt  Проблема: Нехватка ресурсов: увеличения потреб...   \n",
       "64   FМусаткина-3.txt  Проблема: Увеличение количества мигрантов. Реш...   \n",
       "65     FАлимова-3.txt  Проблема: Потеря связи с природой – большая ча...   \n",
       "\n",
       "    gender  \n",
       "61       1  \n",
       "62       0  \n",
       "63       1  \n",
       "64       1  \n",
       "65       1  "
      ]
     },
     "metadata": {},
     "output_type": "display_data"
    }
   ],
   "source": [
    "import os\n",
    "import pandas as pd\n",
    "\n",
    "\"\"\" чтение файлов \"\"\"\n",
    "def fread(path):\n",
    "    f = open(path)\n",
    "    content = f.read()\n",
    "    f.close()\n",
    "    return content\n",
    "\n",
    "\"\"\" формирование df \"\"\"\n",
    "datapath = \"./data/\"\n",
    "df = pd.DataFrame(columns=[\"docname\", \"text\"])\n",
    "for fpath in os.listdir(datapath):\n",
    "    text = fread(datapath + fpath)\n",
    "    df.loc[len(df.index)] = [fpath, text]\n",
    "df[\"gender\"] = df.apply(\n",
    "    lambda row: 0 if str(row[\"docname\"]).startswith(\"M\") else 1, axis=1\n",
    ")\n",
    "\n",
    "\"\"\" перемешивание строк \"\"\"\n",
    "df = df.sample(frac=1).reset_index(drop=True)\n",
    "df.info()\n",
    "display(df.head(), df.tail())"
   ]
  },
  {
   "cell_type": "markdown",
   "id": "4bc97eba",
   "metadata": {},
   "source": [
    "## Предобработка набора текстов/фильтрация"
   ]
  },
  {
   "cell_type": "code",
   "execution_count": 2,
   "id": "2dd2222e",
   "metadata": {},
   "outputs": [],
   "source": [
    "import spacy\n",
    "sp = spacy.load(\"ru_core_news_lg\")"
   ]
  },
  {
   "cell_type": "code",
   "execution_count": 3,
   "id": "45b125d7",
   "metadata": {},
   "outputs": [],
   "source": [
    "\"\"\" токенизация \"\"\"\n",
    "tdf = df.copy()\n",
    "tdf[\"toks\"] = df['text'].apply(lambda row: sp(row.lower())) # понижение регистра\n",
    "\n",
    "\"\"\" удаление токенов длино 1\"\"\"\n",
    "tdf[\"toks\"] = tdf[\"toks\"].apply(\n",
    "    lambda row: [token for token in row if len(token) > 1]\n",
    ")\n",
    "\n",
    "\"\"\" удаление стоп слов \"\"\"\n",
    "tdf[\"toks\"] = tdf['toks'].apply(\n",
    "    lambda row: [token for token in row if not token.is_stop and not token.is_punct and not token.is_digit]\n",
    ")\n",
    "\n",
    "\"\"\" удаление небкувенных символов \"\"\"\n",
    "tdf[\"toks\"] = tdf[\"toks\"].apply(lambda row: [token for token in row if token.is_alpha])"
   ]
  },
  {
   "cell_type": "code",
   "execution_count": 4,
   "id": "6219540a",
   "metadata": {},
   "outputs": [],
   "source": [
    "\"\"\" Выделение частей речи (Pos tagging)\"\"\"\n",
    "tdf[\"pos\"] = tdf[\"toks\"].apply(\n",
    "    lambda row: [token.morph for token in row]\n",
    ")\n",
    "\n",
    "\"\"\" нормализация на основе леммантизации\"\"\"\n",
    "tdf['toks'] = tdf[\"toks\"].apply(\n",
    "    lambda row: [token.lemma_ for token in row]\n",
    ")"
   ]
  },
  {
   "cell_type": "code",
   "execution_count": 5,
   "id": "68cfe4e5",
   "metadata": {},
   "outputs": [],
   "source": [
    "\"\"\" Слияние токенов и pos-tags \"\"\"\n",
    "def merge(toks, poses):\n",
    "    result = []\n",
    "    for tok, pos in zip(toks, poses):\n",
    "        ntok = tok + ' ' + f\"{pos}\"\n",
    "        result.append(ntok)\n",
    "    return result\n",
    "tdf[\"toks_pos\"] = tdf.apply(lambda row: merge(row.toks, row.pos), axis=1)"
   ]
  },
  {
   "cell_type": "markdown",
   "id": "72d68de1",
   "metadata": {},
   "source": [
    "## Индексирование текста на основе частотного портрета\n",
    "Частотный портрет позволяет учитывать различные взаимодействия между словами, в том числе и в разных документах"
   ]
  },
  {
   "cell_type": "code",
   "execution_count": 6,
   "id": "ec534a1f",
   "metadata": {},
   "outputs": [],
   "source": [
    "from scipy import sparse\n",
    "from sklearn.feature_extraction.text import TfidfVectorizer"
   ]
  },
  {
   "cell_type": "code",
   "execution_count": 7,
   "id": "788a50ef",
   "metadata": {},
   "outputs": [
    {
     "name": "stderr",
     "output_type": "stream",
     "text": [
      "c:\\Users\\Ilfe\\MaiProject\\text-analysis-notebook\\.venv\\Lib\\site-packages\\sklearn\\feature_extraction\\text.py:517: UserWarning: The parameter 'token_pattern' will not be used since 'tokenizer' is not None'\n",
      "  warnings.warn(\n"
     ]
    }
   ],
   "source": [
    "def dummy(tokens):\n",
    "    return tokens\n",
    "\n",
    "tfidf_vectorizer = TfidfVectorizer(sublinear_tf=True, tokenizer=dummy, preprocessor=dummy)\n",
    "tfidf_matrix = sparse.csr_matrix(tfidf_vectorizer.fit_transform(tdf[\"toks_pos\"].values))\n",
    "tdf[\"vector\"] = tdf.apply(\n",
    "    lambda row: tfidf_matrix.toarray()[row.name],axis=1\n",
    ")"
   ]
  },
  {
   "cell_type": "markdown",
   "id": "c7da611a",
   "metadata": {},
   "source": [
    "## Решение задачи кластеризации"
   ]
  },
  {
   "cell_type": "code",
   "execution_count": 8,
   "id": "e8faf222",
   "metadata": {},
   "outputs": [],
   "source": [
    "from utils_clusters import get_linkage_matrix, run_agglomerative\n",
    "from visual import draw_dendrogram\n",
    "import numpy as np\n",
    "from sklearn.cluster import KMeans"
   ]
  },
  {
   "cell_type": "code",
   "execution_count": 9,
   "id": "daa0f4ae",
   "metadata": {},
   "outputs": [
    {
     "data": {
      "image/png": "[encoded data removed]",
      "text/plain": [
       "<Figure size 640x480 with 1 Axes>"
      ]
     },
     "metadata": {},
     "output_type": "display_data"
    }
   ],
   "source": [
    "\"\"\" Иерархическая агломеративная кластеризация  & дендрограмма \"\"\"\n",
    "tree = run_agglomerative(tdf[\"vector\"].to_list())\n",
    "linkage_matrix = get_linkage_matrix(tree)\n",
    "draw_dendrogram(linkage_matrix)"
   ]
  },
  {
   "cell_type": "markdown",
   "id": "c17a3aca",
   "metadata": {},
   "source": [
    "Дендрограмма выше показывает, где примерно можно срезать расстояни элементов до центров кластеров.\n",
    "> В данном случае мы можем взять примерно 7 кластеров для использования уже неиерархической кластеризации"
   ]
  },
  {
   "cell_type": "markdown",
   "id": "593cd8b9",
   "metadata": {},
   "source": [
    "## Четкая неиерархическая кластеризация"
   ]
  },
  {
   "cell_type": "code",
   "execution_count": 10,
   "id": "d83504ad",
   "metadata": {},
   "outputs": [
    {
     "name": "stdout",
     "output_type": "stream",
     "text": [
      "Кластер 1 (4):\n",
      "FАпарян-1.txt; MГруздев-1.txt; MГаврилов-3.txt; MМихайлишин-1.txt\n",
      "--------\n",
      "Кластер 2 (4):\n",
      "FЯльмеева-3.txt; FАлимова-2.txt; FАпарян-2.txt; FЗенина-1.txt\n",
      "--------\n",
      "Кластер 3 (5):\n",
      "MЧегодаев-2.txt; FЯльмеева-2.txt; MЧегодаев-3.txt; MБекленищев-2.txt; FМусаткина-3.txt\n",
      "--------\n",
      "Кластер 4 (27):\n",
      "FКороткова-1.txt; MКуклев-2.txt; MФедотов-1.txt; FИгнаткина-2.txt; MКуклев-1.txt; MГисматуллин-3.txt; MКаштанов-1.txt; MГордеев-3.txt; FИгнаткина-3.txt; MЗиновьев-2.txt; MГордеев-2.txt; MЗиновьев-3.txt; FАлимова-1.txt; FЯльмеева-1.txt; MЗиновьев-1.txt; MФедотов-2.txt; FМусаткина-1.txt; MБекленищев-3.txt; FМусаткина-2.txt; MЧегодаев-1.txt; MКуклев-3.txt; MБекленищев-1.txt; FЗенина-2.txt; MКаштанов-2.txt; MФедотов-3.txt; FКороткова-3.txt; FМаврина-2.txt\n",
      "--------\n",
      "Кластер 5 (6):\n",
      "FСемеленова-1.txt; FСемеленова-3.txt; FИгнаткина-1.txt; MКаштанов-3.txt; FКороткова-2.txt; FСемеленова-2.txt\n",
      "--------\n",
      "Кластер 6 (4):\n",
      "MГордеев-1.txt; MГисматуллин-1.txt; MГисматуллин-2.txt; FАлимова-3.txt\n",
      "--------\n",
      "Кластер 7 (16):\n",
      "MМихайлишин-2.txt; FЗенина-3.txt; MГруздев-3.txt; MШарафутдинов-3.txt; MГруздев-2.txt; FМаврина-3.txt; MХалиуллов-3.txt; MМихайлишин-3.txt; MШарафутдинов-2.txt; MХалиуллов-1.txt; MШарафутдинов-1.txt; FАпарян-3.txt; MГаврилов-2.txt; MХалиуллов-2.txt; MГаврилов-1.txt; FМаврина-1.txt\n",
      "--------\n"
     ]
    }
   ],
   "source": [
    "clusters = 7\n",
    "kmeans = KMeans(n_clusters=clusters, random_state=9)\n",
    "kmeans.fit(sparse.csc_matrix(list(tdf[\"vector\"])))\n",
    "for cid in range(clusters):\n",
    "    cindeces = np.where(kmeans.labels_ == cid)[0]\n",
    "    print(f\"Кластер {cid + 1} ({len(cindeces)}):\")\n",
    "    cdocs = [tdf.iloc[idx][\"docname\"] for idx in cindeces]\n",
    "    print(\"; \".join(cdocs))\n",
    "    print(\"--------\")"
   ]
  },
  {
   "cell_type": "markdown",
   "id": "0f1ecc3d",
   "metadata": {},
   "source": [
    "## Итоги\n",
    "**Для Неиерархической кластеризации основанной на частотном портрете:**\n",
    "1. Кластер 1(6): Вирусы\n",
    "2. Кластер 2(4): Все уникальны\n",
    "3. Кластер 3(20): Общественный проблемы, проблемы энергии и ресурсов \n",
    "4. Кластер 4(16): Демография и мигранты\n",
    "5. Кластер 5(5): Ресурсы\n",
    "6. Кластер 6(7): Демография\n",
    "6. Кластер 7(8): Климат\n",
    "\n",
    "> В заключение можно добавить что задача была решена не очень хорошо, т.к. многие документы были отнесены не совсем корректно. Необходмо эксперементировать, пробовать другие методы."
   ]
  }
 ],
 "metadata": {
  "kernelspec": {
   "display_name": ".venv",
   "language": "python",
   "name": "python3"
  },
  "language_info": {
   "codemirror_mode": {
    "name": "ipython",
    "version": 3
   },
   "file_extension": ".py",
   "mimetype": "text/x-python",
   "name": "python",
   "nbconvert_exporter": "python",
   "pygments_lexer": "ipython3",
   "version": "3.12.5"
  }
 },
 "nbformat": 4,
 "nbformat_minor": 5
}
