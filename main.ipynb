{
 "cells": [
  {
   "cell_type": "markdown",
   "id": "ee229d95",
   "metadata": {},
   "source": [
    "## Формирование dataset-a"
   ]
  },
  {
   "cell_type": "code",
   "execution_count": 143,
   "id": "4abae232",
   "metadata": {},
   "outputs": [
    {
     "name": "stdout",
     "output_type": "stream",
     "text": [
      "<class 'pandas.core.frame.DataFrame'>\n",
      "RangeIndex: 66 entries, 0 to 65\n",
      "Data columns (total 3 columns):\n",
      " #   Column   Non-Null Count  Dtype \n",
      "---  ------   --------------  ----- \n",
      " 0   docname  66 non-null     object\n",
      " 1   text     66 non-null     object\n",
      " 2   gender   66 non-null     int64 \n",
      "dtypes: int64(1), object(2)\n",
      "memory usage: 1.7+ KB\n"
     ]
    },
    {
     "data": {
      "application/vnd.microsoft.datawrangler.viewer.v0+json": {
       "columns": [
        {
         "name": "index",
         "rawType": "int64",
         "type": "integer"
        },
        {
         "name": "docname",
         "rawType": "object",
         "type": "string"
        },
        {
         "name": "text",
         "rawType": "object",
         "type": "string"
        },
        {
         "name": "gender",
         "rawType": "int64",
         "type": "integer"
        }
       ],
       "conversionMethod": "pd.DataFrame",
       "ref": "b252d69c-a059-45b2-a8a4-1104fbbad861",
       "rows": [
        [
         "0",
         "FМаврина-3.txt",
         "Проблема: Появление новых пандемий: появление новых и мутаций существующих инфекционных заболеваний.\n",
         "1"
        ],
        [
         "1",
         "MБекленищев-2.txt",
         "Проблема: Миграция и беженцы. Решение: Разработка программы интеграции мигрантов в общество (например, языковые курсы и профессиональная подготовка), использование технологий для улучшения управления миграционными потоками и создания безопасных каналов для поиска убежищ.\n",
         "0"
        ],
        [
         "2",
         "MГордеев-1.txt",
         "Проблема: Отсутствие деятельности мозга. “Зачем мне это знать, если знает GPT”. Решение: Внедрение в культуру человека мозговую активность как высшее благо.\n",
         "0"
        ],
        [
         "3",
         "FМаврина-1.txt",
         "Проблема: Демографические изменения: быстрый рост населения в одних регионах и старение населения в других, миграция населения.\n",
         "1"
        ],
        [
         "4",
         "MФедотов-2.txt",
         "Проблема: Бедные беднее, богатые богаче, как проблема. Решение: Идеи социализма. \n",
         "0"
        ]
       ],
       "shape": {
        "columns": 3,
        "rows": 5
       }
      },
      "text/html": [
       "<div>\n",
       "<style scoped>\n",
       "    .dataframe tbody tr th:only-of-type {\n",
       "        vertical-align: middle;\n",
       "    }\n",
       "\n",
       "    .dataframe tbody tr th {\n",
       "        vertical-align: top;\n",
       "    }\n",
       "\n",
       "    .dataframe thead th {\n",
       "        text-align: right;\n",
       "    }\n",
       "</style>\n",
       "<table border=\"1\" class=\"dataframe\">\n",
       "  <thead>\n",
       "    <tr style=\"text-align: right;\">\n",
       "      <th></th>\n",
       "      <th>docname</th>\n",
       "      <th>text</th>\n",
       "      <th>gender</th>\n",
       "    </tr>\n",
       "  </thead>\n",
       "  <tbody>\n",
       "    <tr>\n",
       "      <th>0</th>\n",
       "      <td>FМаврина-3.txt</td>\n",
       "      <td>Проблема: Появление новых пандемий: появление ...</td>\n",
       "      <td>1</td>\n",
       "    </tr>\n",
       "    <tr>\n",
       "      <th>1</th>\n",
       "      <td>MБекленищев-2.txt</td>\n",
       "      <td>Проблема: Миграция и беженцы. Решение: Разрабо...</td>\n",
       "      <td>0</td>\n",
       "    </tr>\n",
       "    <tr>\n",
       "      <th>2</th>\n",
       "      <td>MГордеев-1.txt</td>\n",
       "      <td>Проблема: Отсутствие деятельности мозга. “Заче...</td>\n",
       "      <td>0</td>\n",
       "    </tr>\n",
       "    <tr>\n",
       "      <th>3</th>\n",
       "      <td>FМаврина-1.txt</td>\n",
       "      <td>Проблема: Демографические изменения: быстрый р...</td>\n",
       "      <td>1</td>\n",
       "    </tr>\n",
       "    <tr>\n",
       "      <th>4</th>\n",
       "      <td>MФедотов-2.txt</td>\n",
       "      <td>Проблема: Бедные беднее, богатые богаче, как п...</td>\n",
       "      <td>0</td>\n",
       "    </tr>\n",
       "  </tbody>\n",
       "</table>\n",
       "</div>"
      ],
      "text/plain": [
       "             docname                                               text  \\\n",
       "0     FМаврина-3.txt  Проблема: Появление новых пандемий: появление ...   \n",
       "1  MБекленищев-2.txt  Проблема: Миграция и беженцы. Решение: Разрабо...   \n",
       "2     MГордеев-1.txt  Проблема: Отсутствие деятельности мозга. “Заче...   \n",
       "3     FМаврина-1.txt  Проблема: Демографические изменения: быстрый р...   \n",
       "4     MФедотов-2.txt  Проблема: Бедные беднее, богатые богаче, как п...   \n",
       "\n",
       "   gender  \n",
       "0       1  \n",
       "1       0  \n",
       "2       0  \n",
       "3       1  \n",
       "4       0  "
      ]
     },
     "metadata": {},
     "output_type": "display_data"
    },
    {
     "data": {
      "application/vnd.microsoft.datawrangler.viewer.v0+json": {
       "columns": [
        {
         "name": "index",
         "rawType": "int64",
         "type": "integer"
        },
        {
         "name": "docname",
         "rawType": "object",
         "type": "string"
        },
        {
         "name": "text",
         "rawType": "object",
         "type": "string"
        },
        {
         "name": "gender",
         "rawType": "int64",
         "type": "integer"
        }
       ],
       "conversionMethod": "pd.DataFrame",
       "ref": "af18369f-4cca-4de2-9fad-b8e746250ecf",
       "rows": [
        [
         "61",
         "FСемеленова-1.txt",
         "Проблема: Недостаток пресной воды. Решение: Инновации: Дешевые и масштабные технологии опреснения. Умные системы водоочистки и повторного использования.\n",
         "1"
        ],
        [
         "62",
         "MГисматуллин-2.txt",
         "Проблема: Проблема “отсутствия” культуры в человеке. Отсутствие культуры (невежество) приводит к деградации человека для уровня подъездного алкоголика и несомненно вредит обществу. Решение: Необходимо планомерно начинать работать с лидерами мнений и менять подход к подаче информации.\n",
         "0"
        ],
        [
         "63",
         "MКуклев-2.txt",
         "Проблема: Голод и нехватка продовольствия. Решение: Вертикальные фермы. Модификация культур с высокой урожайностью.\n",
         "0"
        ],
        [
         "64",
         "MГордеев-2.txt",
         "Проблема. Ориентированность человека решать только его личные проблемы, а не вопросы для общества. Решение: Программа внедрения в мышление человека, что решение проблем для общины намного ценнее личной потребности.\n",
         "0"
        ],
        [
         "65",
         "FАлимова-1.txt",
         "Проблема: Деградация внимания, снижение когнитивных способностей. В Связи с частым использованием гаджетов у людей формируется “клиновое мышление” – внимание удерживается только небольшое время, так же, как и просмотр коротких видео в интернете.\n",
         "1"
        ]
       ],
       "shape": {
        "columns": 3,
        "rows": 5
       }
      },
      "text/html": [
       "<div>\n",
       "<style scoped>\n",
       "    .dataframe tbody tr th:only-of-type {\n",
       "        vertical-align: middle;\n",
       "    }\n",
       "\n",
       "    .dataframe tbody tr th {\n",
       "        vertical-align: top;\n",
       "    }\n",
       "\n",
       "    .dataframe thead th {\n",
       "        text-align: right;\n",
       "    }\n",
       "</style>\n",
       "<table border=\"1\" class=\"dataframe\">\n",
       "  <thead>\n",
       "    <tr style=\"text-align: right;\">\n",
       "      <th></th>\n",
       "      <th>docname</th>\n",
       "      <th>text</th>\n",
       "      <th>gender</th>\n",
       "    </tr>\n",
       "  </thead>\n",
       "  <tbody>\n",
       "    <tr>\n",
       "      <th>61</th>\n",
       "      <td>FСемеленова-1.txt</td>\n",
       "      <td>Проблема: Недостаток пресной воды. Решение: Ин...</td>\n",
       "      <td>1</td>\n",
       "    </tr>\n",
       "    <tr>\n",
       "      <th>62</th>\n",
       "      <td>MГисматуллин-2.txt</td>\n",
       "      <td>Проблема: Проблема “отсутствия” культуры в чел...</td>\n",
       "      <td>0</td>\n",
       "    </tr>\n",
       "    <tr>\n",
       "      <th>63</th>\n",
       "      <td>MКуклев-2.txt</td>\n",
       "      <td>Проблема: Голод и нехватка продовольствия. Реш...</td>\n",
       "      <td>0</td>\n",
       "    </tr>\n",
       "    <tr>\n",
       "      <th>64</th>\n",
       "      <td>MГордеев-2.txt</td>\n",
       "      <td>Проблема. Ориентированность человека решать то...</td>\n",
       "      <td>0</td>\n",
       "    </tr>\n",
       "    <tr>\n",
       "      <th>65</th>\n",
       "      <td>FАлимова-1.txt</td>\n",
       "      <td>Проблема: Деградация внимания, снижение когнит...</td>\n",
       "      <td>1</td>\n",
       "    </tr>\n",
       "  </tbody>\n",
       "</table>\n",
       "</div>"
      ],
      "text/plain": [
       "               docname                                               text  \\\n",
       "61   FСемеленова-1.txt  Проблема: Недостаток пресной воды. Решение: Ин...   \n",
       "62  MГисматуллин-2.txt  Проблема: Проблема “отсутствия” культуры в чел...   \n",
       "63       MКуклев-2.txt  Проблема: Голод и нехватка продовольствия. Реш...   \n",
       "64      MГордеев-2.txt  Проблема. Ориентированность человека решать то...   \n",
       "65      FАлимова-1.txt  Проблема: Деградация внимания, снижение когнит...   \n",
       "\n",
       "    gender  \n",
       "61       1  \n",
       "62       0  \n",
       "63       0  \n",
       "64       0  \n",
       "65       1  "
      ]
     },
     "metadata": {},
     "output_type": "display_data"
    }
   ],
   "source": [
    "import os\n",
    "import pandas as pd\n",
    "\n",
    "\"\"\" чтение файлов \"\"\"\n",
    "def fread(path):\n",
    "    f = open(path)\n",
    "    content = f.read()\n",
    "    f.close()\n",
    "    return content\n",
    "\n",
    "\"\"\" формирование df \"\"\"\n",
    "datapath = \"./data/\"\n",
    "df = pd.DataFrame(columns=[\"docname\", \"text\"])\n",
    "for fpath in os.listdir(datapath):\n",
    "    text = fread(datapath + fpath)\n",
    "    df.loc[len(df.index)] = [fpath, text]\n",
    "df[\"gender\"] = df.apply(\n",
    "    lambda row: 0 if str(row[\"docname\"]).startswith(\"M\") else 1, axis=1\n",
    ")\n",
    "\n",
    "\"\"\" перемешивание строк \"\"\"\n",
    "df = df.sample(frac=1).reset_index(drop=True)\n",
    "df.info()\n",
    "display(df.head(), df.tail())"
   ]
  },
  {
   "cell_type": "markdown",
   "id": "4bc97eba",
   "metadata": {},
   "source": [
    "## Предобработка набора текстов/фильтрация"
   ]
  },
  {
   "cell_type": "code",
   "execution_count": 144,
   "id": "2dd2222e",
   "metadata": {},
   "outputs": [],
   "source": [
    "import spacy\n",
    "sp = spacy.load(\"ru_core_news_lg\")"
   ]
  },
  {
   "cell_type": "code",
   "execution_count": 145,
   "id": "45b125d7",
   "metadata": {},
   "outputs": [],
   "source": [
    "\"\"\" токенизация \"\"\"\n",
    "tdf = df.copy()\n",
    "tdf[\"toks\"] = df['text'].apply(lambda row: sp(row.lower())) # понижение регистра\n",
    "\n",
    "\"\"\" удаление токенов длино 1\"\"\"\n",
    "tdf[\"toks\"] = tdf[\"toks\"].apply(\n",
    "    lambda row: [token for token in row if len(token) > 1]\n",
    ")\n",
    "\n",
    "\"\"\" удаление стоп слов \"\"\"\n",
    "tdf[\"toks\"] = tdf['toks'].apply(\n",
    "    lambda row: [token for token in row if not token.is_stop and not token.is_punct and not token.is_digit]\n",
    ")\n",
    "\n",
    "\"\"\" удаление небкувенных символов \"\"\"\n",
    "tdf[\"toks\"] = tdf[\"toks\"].apply(lambda row: [token for token in row if token.is_alpha])"
   ]
  },
  {
   "cell_type": "code",
   "execution_count": 146,
   "id": "6219540a",
   "metadata": {},
   "outputs": [],
   "source": [
    "\"\"\" Выделение частей речи (Pos tagging)\"\"\"\n",
    "tdf[\"pos\"] = tdf[\"toks\"].apply(\n",
    "    lambda row: [token.morph for token in row]\n",
    ")\n",
    "\n",
    "\"\"\" нормализация на основе леммантизации\"\"\"\n",
    "tdf['toks'] = tdf[\"toks\"].apply(\n",
    "    lambda row: [token.lemma_ for token in row]\n",
    ")"
   ]
  },
  {
   "cell_type": "code",
   "execution_count": 147,
   "id": "68cfe4e5",
   "metadata": {},
   "outputs": [],
   "source": [
    "\"\"\" Слияние токенов и pos-tags \"\"\"\n",
    "def merge(toks, poses):\n",
    "    result = []\n",
    "    for tok, pos in zip(toks, poses):\n",
    "        ntok = tok + ' ' + f\"{pos}\"\n",
    "        result.append(ntok)\n",
    "    return result\n",
    "tdf[\"toks_pos\"] = tdf.apply(lambda row: merge(row.toks, row.pos), axis=1)"
   ]
  },
  {
   "cell_type": "markdown",
   "id": "72d68de1",
   "metadata": {},
   "source": [
    "## Индексирование текста на основе частотного портрета\n",
    "Частотный портрет позволяет учитывать различные взаимодействия между словами, в том числе и в разных документах"
   ]
  },
  {
   "cell_type": "code",
   "execution_count": 148,
   "id": "ec534a1f",
   "metadata": {},
   "outputs": [],
   "source": [
    "from scipy import sparse\n",
    "from sklearn.feature_extraction.text import TfidfVectorizer"
   ]
  },
  {
   "cell_type": "code",
   "execution_count": 149,
   "id": "788a50ef",
   "metadata": {},
   "outputs": [
    {
     "name": "stderr",
     "output_type": "stream",
     "text": [
      "c:\\Users\\Ilfe\\MaiProject\\text-analysis-notebook\\.venv\\Lib\\site-packages\\sklearn\\feature_extraction\\text.py:517: UserWarning: The parameter 'token_pattern' will not be used since 'tokenizer' is not None'\n",
      "  warnings.warn(\n"
     ]
    }
   ],
   "source": [
    "def dummy(tokens):\n",
    "    return tokens\n",
    "\n",
    "tfidf_vectorizer = TfidfVectorizer(sublinear_tf=True, tokenizer=dummy, preprocessor=dummy)\n",
    "tfidf_matrix = sparse.csr_matrix(tfidf_vectorizer.fit_transform(tdf[\"toks_pos\"].values))\n",
    "tdf[\"vector\"] = tdf.apply(\n",
    "    lambda row: tfidf_matrix.toarray()[row.name],axis=1\n",
    ")"
   ]
  },
  {
   "cell_type": "markdown",
   "id": "c7da611a",
   "metadata": {},
   "source": [
    "## Решение задачи кластеризации"
   ]
  },
  {
   "cell_type": "code",
   "execution_count": 150,
   "id": "e8faf222",
   "metadata": {},
   "outputs": [],
   "source": [
    "from utils_clusters import get_linkage_matrix, run_agglomerative\n",
    "from visual import draw_dendrogram\n",
    "from scipy.cluster import hierarchy\n",
    "from sklearn.cluster import KMeans"
   ]
  },
  {
   "cell_type": "code",
   "execution_count": 151,
   "id": "daa0f4ae",
   "metadata": {},
   "outputs": [
    {
     "data": {
      "image/png": "[encoded data removed]",
      "text/plain": [
       "<Figure size 640x480 with 1 Axes>"
      ]
     },
     "metadata": {},
     "output_type": "display_data"
    }
   ],
   "source": [
    "\"\"\" Иерархическая агломеративная кластеризация  & дендрограмма \"\"\"\n",
    "tree = run_agglomerative(tdf[\"vector\"].to_list())\n",
    "linkage_matrix = get_linkage_matrix(tree)\n",
    "draw_dendrogram(linkage_matrix)"
   ]
  },
  {
   "cell_type": "markdown",
   "id": "c17a3aca",
   "metadata": {},
   "source": [
    "Дендрограмма выше показывает, где примерно можно срезать расстояни элементов до центров кластеров.\n",
    "> В данном случае мы можем взять примерно 7 кластеров для использования уже неиерархической кластеризации"
   ]
  },
  {
   "cell_type": "markdown",
   "id": "593cd8b9",
   "metadata": {},
   "source": [
    "## Четкая неиерархическая кластеризация"
   ]
  },
  {
   "cell_type": "code",
   "execution_count": 152,
   "id": "d83504ad",
   "metadata": {},
   "outputs": [
    {
     "name": "stdout",
     "output_type": "stream",
     "text": [
      "Кластер 1 (6):\n",
      "FМаврина-3.txt; FЗенина-3.txt; MБекленищев-3.txt; MМихайлишин-1.txt; MКаштанов-1.txt; FИгнаткина-2.txt\n",
      "--------\n",
      "Кластер 2 (4):\n",
      "FАпарян-2.txt; FАлимова-2.txt; FЗенина-1.txt; FЯльмеева-3.txt\n",
      "--------\n",
      "Кластер 3 (20):\n",
      "MФедотов-2.txt; FКороткова-3.txt; FЯльмеева-1.txt; FИгнаткина-1.txt; FСемеленова-2.txt; MГисматуллин-1.txt; FКороткова-2.txt; MКаштанов-3.txt; FСемеленова-3.txt; MЗиновьев-1.txt; MКаштанов-2.txt; FМусаткина-1.txt; MКуклев-3.txt; MЗиновьев-2.txt; MЗиновьев-3.txt; MГисматуллин-3.txt; FСемеленова-1.txt; MГисматуллин-2.txt; MКуклев-2.txt; MГордеев-2.txt\n",
      "--------\n",
      "Кластер 4 (16):\n",
      "MГруздев-3.txt; MЧегодаев-2.txt; MМихайлишин-3.txt; MГруздев-1.txt; FАпарян-1.txt; MГаврилов-1.txt; FАпарян-3.txt; MШарафутдинов-3.txt; MМихайлишин-2.txt; FМусаткина-3.txt; MЧегодаев-3.txt; FАлимова-3.txt; MГруздев-2.txt; MГаврилов-2.txt; FЯльмеева-2.txt; FАлимова-1.txt\n",
      "--------\n",
      "Кластер 5 (5):\n",
      "MГаврилов-3.txt; FМаврина-2.txt; MФедотов-3.txt; MГордеев-3.txt; FИгнаткина-3.txt\n",
      "--------\n",
      "Кластер 6 (7):\n",
      "FМаврина-1.txt; MХалиуллов-2.txt; MШарафутдинов-2.txt; FМусаткина-2.txt; MШарафутдинов-1.txt; FЗенина-2.txt; MХалиуллов-1.txt\n",
      "--------\n",
      "Кластер 7 (8):\n",
      "MБекленищев-2.txt; MГордеев-1.txt; FКороткова-1.txt; MХалиуллов-3.txt; MБекленищев-1.txt; MФедотов-1.txt; MКуклев-1.txt; MЧегодаев-1.txt\n",
      "--------\n"
     ]
    }
   ],
   "source": [
    "clusters = 7\n",
    "kmeans = KMeans(n_clusters=clusters, random_state=9)\n",
    "kmeans.fit(sparse.csc_matrix(list(tdf[\"vector\"])))\n",
    "for cid in range(clusters):\n",
    "    cindeces = numpy.where(kmeans.labels_ == cid)[0]\n",
    "    print(f\"Кластер {cid + 1} ({len(cindeces)}):\")\n",
    "    cdocs = [tdf.iloc[idx][\"docname\"] for idx in cindeces]\n",
    "    print(\"; \".join(cdocs))\n",
    "    print(\"--------\")"
   ]
  },
  {
   "cell_type": "markdown",
   "id": "0f1ecc3d",
   "metadata": {},
   "source": [
    "## Итоги\n",
    "**Для Неиерархической кластеризации основанной на частотном портрете:**\n",
    "1. Кластер 1(6): Вирусы\n",
    "2. Кластер 2(4): Все уникальны\n",
    "3. Кластер 3(20): Общественный проблемы, проблемы энергии и ресурсов \n",
    "4. Кластер 4(16): Демография и мигранты\n",
    "5. Кластер 5(5): Ресурсы\n",
    "6. Кластер 6(7): Демография\n",
    "6. Кластер 7(8): Климат\n",
    "\n",
    "> В заключение можно добавить что задача была решена не очень хорошо, т.к. многие документы были отнесены не совсем корректно. Необходмо эксперементировать, пробовать другие методы."
   ]
  }
 ],
 "metadata": {
  "kernelspec": {
   "display_name": ".venv",
   "language": "python",
   "name": "python3"
  },
  "language_info": {
   "codemirror_mode": {
    "name": "ipython",
    "version": 3
   },
   "file_extension": ".py",
   "mimetype": "text/x-python",
   "name": "python",
   "nbconvert_exporter": "python",
   "pygments_lexer": "ipython3",
   "version": "3.12.5"
  }
 },
 "nbformat": 4,
 "nbformat_minor": 5
}
